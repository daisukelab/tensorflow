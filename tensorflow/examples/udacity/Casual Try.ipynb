{
 "cells": [
  {
   "cell_type": "code",
   "execution_count": 2,
   "metadata": {
    "collapsed": true
   },
   "outputs": [],
   "source": [
    "from scipy import ndimage\n",
    "import numpy as np"
   ]
  },
  {
   "cell_type": "code",
   "execution_count": 17,
   "metadata": {
    "collapsed": false
   },
   "outputs": [
    {
     "name": "stdout",
     "output_type": "stream",
     "text": [
      "Both shall be the same -->  4.8 vs. 4.8\n"
     ]
    }
   ],
   "source": [
    "a1 = np.array([[1]], dtype=np.float32)\n",
    "w = np.array([[0.1,0.1,0.1], [0.5,0.5,0.5], [1,1,1]])\n",
    "print 'Both shall be the same --> ', np.sum(w), 'vs.', ndimage.convolve(a1, w)[0, 0]"
   ]
  },
  {
   "cell_type": "code",
   "execution_count": 21,
   "metadata": {
    "collapsed": false
   },
   "outputs": [
    {
     "data": {
      "text/plain": [
       "array([[  5.0999999 ,   5.0999999 ,   5.0999999 ],\n",
       "       [  6.9000001 ,   6.9000001 ,   6.9000001 ],\n",
       "       [ 11.39999962,  11.39999962,  11.39999962]], dtype=float32)"
      ]
     },
     "execution_count": 21,
     "metadata": {},
     "output_type": "execute_result"
    }
   ],
   "source": [
    "a = np.array([[1,1,1], [2,2,2], [3,3,3]], dtype=np.float32)\n",
    "w = np.array([[0.1,0.1,0.1], [0.5,0.5,0.5], [1,1,1]], dtype=np.float32)\n",
    "ndimage.convolve(a, w)"
   ]
  },
  {
   "cell_type": "code",
   "execution_count": 22,
   "metadata": {
    "collapsed": false
   },
   "outputs": [
    {
     "data": {
      "text/plain": [
       "array([[  3.       ,   3.       ,   3.       ],\n",
       "       [  6.9000001,   6.9000001,   6.9000001],\n",
       "       [ 13.5      ,  13.5      ,  13.5      ]], dtype=float32)"
      ]
     },
     "execution_count": 22,
     "metadata": {},
     "output_type": "execute_result"
    }
   ],
   "source": [
    "ndimage.convolve(w, a)"
   ]
  },
  {
   "cell_type": "code",
   "execution_count": null,
   "metadata": {
    "collapsed": true
   },
   "outputs": [],
   "source": []
  },
  {
   "cell_type": "code",
   "execution_count": null,
   "metadata": {
    "collapsed": true
   },
   "outputs": [],
   "source": []
  },
  {
   "cell_type": "code",
   "execution_count": null,
   "metadata": {
    "collapsed": true
   },
   "outputs": [],
   "source": []
  },
  {
   "cell_type": "code",
   "execution_count": null,
   "metadata": {
    "collapsed": true
   },
   "outputs": [],
   "source": []
  },
  {
   "cell_type": "code",
   "execution_count": null,
   "metadata": {
    "collapsed": true
   },
   "outputs": [],
   "source": []
  },
  {
   "cell_type": "code",
   "execution_count": null,
   "metadata": {
    "collapsed": true
   },
   "outputs": [],
   "source": []
  },
  {
   "cell_type": "code",
   "execution_count": null,
   "metadata": {
    "collapsed": true
   },
   "outputs": [],
   "source": []
  },
  {
   "cell_type": "code",
   "execution_count": null,
   "metadata": {
    "collapsed": true
   },
   "outputs": [],
   "source": [
    "# http://stackoverflow.com/questions/27948324/implementing-lecun-local-contrast-normalization-with-theano\n",
    "class LecunLCN(object):\n",
    "def __init__(self, X, image_shape, threshold=1e-4, gaussian_radius=9, use_divisor=True):\n",
    "    \"\"\"\n",
    "    Allocate an LCN.\n",
    "\n",
    "    :type use_divisor: Boolean\n",
    "    :param use_divisor: whether or not to apply divisive normalization\n",
    "    \"\"\"\n",
    "\n",
    "    # Get Gaussian filter\n",
    "    filter_shape = (1, image_shape[1], radius, radius)\n",
    "\n",
    "    self.filters = self.gaussian_filter(filter_shape), borrow=True)\n",
    "\n",
    "    # Compute the Guassian weighted average by means of convolution\n",
    "    convout = conv.conv2d(\n",
    "        input=X,\n",
    "        filters=self.filters,\n",
    "        image_shape=image_shape,\n",
    "        filter_shape=filter_shape,\n",
    "        border_mode='full'\n",
    "    )\n",
    "\n",
    "    # Subtractive step\n",
    "    mid = int(numpy.floor(filter_shape[2] / 2.))\n",
    "\n",
    "    # Make filter dimension broadcastable and subtract\n",
    "    centered_X = X - T.addbroadcast(convout[:, :, mid:-mid, mid:-mid], 1)\n",
    "\n",
    "    # Boolean marks whether or not to perform divisive step\n",
    "    if use_divisor:\n",
    "        # Note that the local variances can be computed by using the centered_X\n",
    "        # tensor. If we convolve this with the mean filter, that should give us\n",
    "        # the variance at each point. We simply take the square root to get our\n",
    "        # denominator\n",
    "\n",
    "        # Compute variances\n",
    "        sum_sqr_XX = conv.conv2d(\n",
    "            input=T.sqr(centered_X),\n",
    "            filters=self.filters,\n",
    "            image_shape=image_shape,\n",
    "            filter_shape=filter_shape,\n",
    "            border_mode='full'\n",
    "        )\n",
    "\n",
    "\n",
    "        # Take square root to get local standard deviation\n",
    "        denom = T.sqrt(sum_sqr_XX[:,:,mid:-mid,mid:-mid])\n",
    "\n",
    "        per_img_mean = denom.mean(axis=[2,3])\n",
    "        divisor = T.largest(per_img_mean.dimshuffle(0, 1, 'x', 'x'), denom)\n",
    "        # Divisise step\n",
    "        new_X = centered_X / T.maximum(T.addbroadcast(divisor, 1), threshold)\n",
    "    else:\n",
    "        new_X = centered_X\n",
    "\n",
    "    self.output = new_X\n",
    "\n",
    "def gaussian_filter(self, kernel_size):\n",
    "    x = numpy.zeros(kernel_shape, dtype=np.float32)\n",
    "\n",
    "    def gauss(x, y, sigma=2.0):\n",
    "        Z = 2 * numpy.pi * sigma ** 2\n",
    "        return  1. / Z * numpy.exp(-(x ** 2 + y ** 2) / (2. * sigma ** 2))\n",
    "\n",
    "    mid = numpy.floor(kernel_size / 2.)\n",
    "    for i in xrange(kernel_size):\n",
    "        for j in xrange(0, kernel_size):\n",
    "            x[i, j] = gauss(i - mid, j - mid)\n",
    "\n",
    "    return x / numpy.sum(x)\n"
   ]
  }
 ],
 "metadata": {
  "anaconda-cloud": {},
  "kernelspec": {
   "display_name": "Python [Root]",
   "language": "python",
   "name": "Python [Root]"
  },
  "language_info": {
   "codemirror_mode": {
    "name": "ipython",
    "version": 2
   },
   "file_extension": ".py",
   "mimetype": "text/x-python",
   "name": "python",
   "nbconvert_exporter": "python",
   "pygments_lexer": "ipython2",
   "version": "2.7.12"
  }
 },
 "nbformat": 4,
 "nbformat_minor": 0
}
